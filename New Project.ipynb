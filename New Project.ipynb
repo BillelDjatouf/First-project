{
 "cells": [
  {
   "cell_type": "markdown",
   "id": "dd66ddf3",
   "metadata": {},
   "source": [
    "Python 3.9.12"
   ]
  },
  {
   "cell_type": "code",
   "execution_count": 63,
   "id": "dfbad272",
   "metadata": {},
   "outputs": [
    {
     "name": "stdout",
     "output_type": "stream",
     "text": [
      "Welcome to my Python world, let's start coding\n"
     ]
    }
   ],
   "source": [
    "print(\"Welcome to my Python world, let's start coding\")"
   ]
  },
  {
   "cell_type": "raw",
   "id": "b626edfc",
   "metadata": {},
   "source": []
  },
  {
   "cell_type": "code",
   "execution_count": null,
   "id": "dfb93180",
   "metadata": {},
   "outputs": [],
   "source": []
  }
 ],
 "metadata": {
  "kernelspec": {
   "display_name": "Python 3 (ipykernel)",
   "language": "python",
   "name": "python3"
  },
  "language_info": {
   "codemirror_mode": {
    "name": "ipython",
    "version": 3
   },
   "file_extension": ".py",
   "mimetype": "text/x-python",
   "name": "python",
   "nbconvert_exporter": "python",
   "pygments_lexer": "ipython3",
   "version": "3.9.12"
  }
 },
 "nbformat": 4,
 "nbformat_minor": 5
}
